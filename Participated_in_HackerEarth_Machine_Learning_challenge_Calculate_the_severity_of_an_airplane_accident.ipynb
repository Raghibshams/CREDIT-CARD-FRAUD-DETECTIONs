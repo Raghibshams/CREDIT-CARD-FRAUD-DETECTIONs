{
  "nbformat": 4,
  "nbformat_minor": 0,
  "metadata": {
    "colab": {
      "name": "Participated in HackerEarth Machine Learning challenge:Calculate the severity of an airplane accident.ipynb",
      "provenance": [],
      "toc_visible": true,
      "authorship_tag": "ABX9TyMcbj0W82yFL6zP1cWj1Ady",
      "include_colab_link": true
    },
    "kernelspec": {
      "name": "python3",
      "display_name": "Python 3"
    }
  },
  "cells": [
    {
      "cell_type": "markdown",
      "metadata": {
        "id": "view-in-github",
        "colab_type": "text"
      },
      "source": [
        "<a href=\"https://colab.research.google.com/github/Raghibshams/CREDIT-CARD-FRAUD-DETECTIONs/blob/master/Participated_in_HackerEarth_Machine_Learning_challenge_Calculate_the_severity_of_an_airplane_accident.ipynb\" target=\"_parent\"><img src=\"https://colab.research.google.com/assets/colab-badge.svg\" alt=\"Open In Colab\"/></a>"
      ]
    },
    {
      "cell_type": "code",
      "metadata": {
        "id": "7r9ROhuQ7kY0",
        "colab_type": "code",
        "colab": {}
      },
      "source": [
        "from mpl_toolkits.mplot3d import Axes3D\n",
        "from sklearn.preprocessing import StandardScaler\n",
        "import matplotlib.pyplot as plt # plotting\n",
        "import numpy as np # linear algebra\n",
        "import os # accessing directory structure\n",
        "import pandas as pd \n",
        "import seaborn as sns\n",
        "import matplotlib.pyplot as plt\n",
        "%matplotlib inline"
      ],
      "execution_count": 0,
      "outputs": []
    },
    {
      "cell_type": "code",
      "metadata": {
        "id": "xtygCIkC7svl",
        "colab_type": "code",
        "colab": {}
      },
      "source": [
        "df = pd.read_csv('train.csv')\n",
        "df1=pd.read_csv('test.csv')"
      ],
      "execution_count": 0,
      "outputs": []
    },
    {
      "cell_type": "code",
      "metadata": {
        "id": "SVUCDTlr74-u",
        "colab_type": "code",
        "outputId": "0429c198-3142-4e10-afad-e32a7ab17849",
        "colab": {
          "base_uri": "https://localhost:8080/",
          "height": 444
        }
      },
      "source": [
        "df"
      ],
      "execution_count": 5,
      "outputs": [
        {
          "output_type": "execute_result",
          "data": {
            "text/html": [
              "<div>\n",
              "<style scoped>\n",
              "    .dataframe tbody tr th:only-of-type {\n",
              "        vertical-align: middle;\n",
              "    }\n",
              "\n",
              "    .dataframe tbody tr th {\n",
              "        vertical-align: top;\n",
              "    }\n",
              "\n",
              "    .dataframe thead th {\n",
              "        text-align: right;\n",
              "    }\n",
              "</style>\n",
              "<table border=\"1\" class=\"dataframe\">\n",
              "  <thead>\n",
              "    <tr style=\"text-align: right;\">\n",
              "      <th></th>\n",
              "      <th>Severity</th>\n",
              "      <th>Safety_Score</th>\n",
              "      <th>Days_Since_Inspection</th>\n",
              "      <th>Total_Safety_Complaints</th>\n",
              "      <th>Control_Metric</th>\n",
              "      <th>Turbulence_In_gforces</th>\n",
              "      <th>Cabin_Temperature</th>\n",
              "      <th>Accident_Type_Code</th>\n",
              "      <th>Max_Elevation</th>\n",
              "      <th>Violations</th>\n",
              "      <th>Adverse_Weather_Metric</th>\n",
              "      <th>Accident_ID</th>\n",
              "    </tr>\n",
              "  </thead>\n",
              "  <tbody>\n",
              "    <tr>\n",
              "      <th>0</th>\n",
              "      <td>Minor_Damage_And_Injuries</td>\n",
              "      <td>49.223744</td>\n",
              "      <td>14</td>\n",
              "      <td>22</td>\n",
              "      <td>71.285324</td>\n",
              "      <td>0.272118</td>\n",
              "      <td>78.04</td>\n",
              "      <td>2</td>\n",
              "      <td>31335.476824</td>\n",
              "      <td>3</td>\n",
              "      <td>0.424352</td>\n",
              "      <td>7570</td>\n",
              "    </tr>\n",
              "    <tr>\n",
              "      <th>1</th>\n",
              "      <td>Minor_Damage_And_Injuries</td>\n",
              "      <td>62.465753</td>\n",
              "      <td>10</td>\n",
              "      <td>27</td>\n",
              "      <td>72.288058</td>\n",
              "      <td>0.423939</td>\n",
              "      <td>84.54</td>\n",
              "      <td>2</td>\n",
              "      <td>26024.711057</td>\n",
              "      <td>2</td>\n",
              "      <td>0.352350</td>\n",
              "      <td>12128</td>\n",
              "    </tr>\n",
              "    <tr>\n",
              "      <th>2</th>\n",
              "      <td>Significant_Damage_And_Fatalities</td>\n",
              "      <td>63.059361</td>\n",
              "      <td>13</td>\n",
              "      <td>16</td>\n",
              "      <td>66.362808</td>\n",
              "      <td>0.322604</td>\n",
              "      <td>78.86</td>\n",
              "      <td>7</td>\n",
              "      <td>39269.053927</td>\n",
              "      <td>3</td>\n",
              "      <td>0.003364</td>\n",
              "      <td>2181</td>\n",
              "    </tr>\n",
              "    <tr>\n",
              "      <th>3</th>\n",
              "      <td>Significant_Damage_And_Serious_Injuries</td>\n",
              "      <td>48.082192</td>\n",
              "      <td>11</td>\n",
              "      <td>9</td>\n",
              "      <td>74.703737</td>\n",
              "      <td>0.337029</td>\n",
              "      <td>81.79</td>\n",
              "      <td>3</td>\n",
              "      <td>42771.499200</td>\n",
              "      <td>1</td>\n",
              "      <td>0.211728</td>\n",
              "      <td>5946</td>\n",
              "    </tr>\n",
              "    <tr>\n",
              "      <th>4</th>\n",
              "      <td>Significant_Damage_And_Fatalities</td>\n",
              "      <td>26.484018</td>\n",
              "      <td>13</td>\n",
              "      <td>25</td>\n",
              "      <td>47.948952</td>\n",
              "      <td>0.541140</td>\n",
              "      <td>77.16</td>\n",
              "      <td>3</td>\n",
              "      <td>35509.228515</td>\n",
              "      <td>2</td>\n",
              "      <td>0.176883</td>\n",
              "      <td>9054</td>\n",
              "    </tr>\n",
              "    <tr>\n",
              "      <th>...</th>\n",
              "      <td>...</td>\n",
              "      <td>...</td>\n",
              "      <td>...</td>\n",
              "      <td>...</td>\n",
              "      <td>...</td>\n",
              "      <td>...</td>\n",
              "      <td>...</td>\n",
              "      <td>...</td>\n",
              "      <td>...</td>\n",
              "      <td>...</td>\n",
              "      <td>...</td>\n",
              "      <td>...</td>\n",
              "    </tr>\n",
              "    <tr>\n",
              "      <th>9995</th>\n",
              "      <td>Significant_Damage_And_Serious_Injuries</td>\n",
              "      <td>56.118721</td>\n",
              "      <td>8</td>\n",
              "      <td>1</td>\n",
              "      <td>63.445761</td>\n",
              "      <td>0.482359</td>\n",
              "      <td>78.64</td>\n",
              "      <td>5</td>\n",
              "      <td>38537.363408</td>\n",
              "      <td>2</td>\n",
              "      <td>0.026150</td>\n",
              "      <td>11493</td>\n",
              "    </tr>\n",
              "    <tr>\n",
              "      <th>9996</th>\n",
              "      <td>Highly_Fatal_And_Damaging</td>\n",
              "      <td>40.365297</td>\n",
              "      <td>10</td>\n",
              "      <td>7</td>\n",
              "      <td>62.169553</td>\n",
              "      <td>0.421775</td>\n",
              "      <td>79.77</td>\n",
              "      <td>4</td>\n",
              "      <td>40846.916900</td>\n",
              "      <td>2</td>\n",
              "      <td>0.074898</td>\n",
              "      <td>305</td>\n",
              "    </tr>\n",
              "    <tr>\n",
              "      <th>9997</th>\n",
              "      <td>Significant_Damage_And_Serious_Injuries</td>\n",
              "      <td>27.853881</td>\n",
              "      <td>17</td>\n",
              "      <td>1</td>\n",
              "      <td>69.598906</td>\n",
              "      <td>0.318277</td>\n",
              "      <td>80.37</td>\n",
              "      <td>3</td>\n",
              "      <td>33771.996300</td>\n",
              "      <td>3</td>\n",
              "      <td>0.168173</td>\n",
              "      <td>612</td>\n",
              "    </tr>\n",
              "    <tr>\n",
              "      <th>9998</th>\n",
              "      <td>Minor_Damage_And_Injuries</td>\n",
              "      <td>56.210046</td>\n",
              "      <td>8</td>\n",
              "      <td>0</td>\n",
              "      <td>39.835916</td>\n",
              "      <td>0.598118</td>\n",
              "      <td>76.92</td>\n",
              "      <td>5</td>\n",
              "      <td>39820.419251</td>\n",
              "      <td>2</td>\n",
              "      <td>0.026381</td>\n",
              "      <td>4963</td>\n",
              "    </tr>\n",
              "    <tr>\n",
              "      <th>9999</th>\n",
              "      <td>Highly_Fatal_And_Damaging</td>\n",
              "      <td>50.000000</td>\n",
              "      <td>13</td>\n",
              "      <td>3</td>\n",
              "      <td>45.487694</td>\n",
              "      <td>0.382467</td>\n",
              "      <td>77.46</td>\n",
              "      <td>5</td>\n",
              "      <td>26005.322987</td>\n",
              "      <td>2</td>\n",
              "      <td>0.017036</td>\n",
              "      <td>9387</td>\n",
              "    </tr>\n",
              "  </tbody>\n",
              "</table>\n",
              "<p>10000 rows × 12 columns</p>\n",
              "</div>"
            ],
            "text/plain": [
              "                                     Severity  ...  Accident_ID\n",
              "0                   Minor_Damage_And_Injuries  ...         7570\n",
              "1                   Minor_Damage_And_Injuries  ...        12128\n",
              "2           Significant_Damage_And_Fatalities  ...         2181\n",
              "3     Significant_Damage_And_Serious_Injuries  ...         5946\n",
              "4           Significant_Damage_And_Fatalities  ...         9054\n",
              "...                                       ...  ...          ...\n",
              "9995  Significant_Damage_And_Serious_Injuries  ...        11493\n",
              "9996                Highly_Fatal_And_Damaging  ...          305\n",
              "9997  Significant_Damage_And_Serious_Injuries  ...          612\n",
              "9998                Minor_Damage_And_Injuries  ...         4963\n",
              "9999                Highly_Fatal_And_Damaging  ...         9387\n",
              "\n",
              "[10000 rows x 12 columns]"
            ]
          },
          "metadata": {
            "tags": []
          },
          "execution_count": 5
        }
      ]
    },
    {
      "cell_type": "code",
      "metadata": {
        "id": "pYCdomPvf1CY",
        "colab_type": "code",
        "outputId": "22fa3e93-176f-48d9-c4a3-2b899532e481",
        "colab": {
          "base_uri": "https://localhost:8080/",
          "height": 225
        }
      },
      "source": [
        "Q1 = df.quantile(0.25)\n",
        "Q3 = df.quantile(0.75)\n",
        "IQR = Q3 - Q1\n",
        "print(IQR)"
      ],
      "execution_count": 6,
      "outputs": [
        {
          "output_type": "stream",
          "text": [
            "Safety_Score                  21.917808\n",
            "Days_Since_Inspection          4.000000\n",
            "Total_Safety_Complaints        7.000000\n",
            "Control_Metric                16.408387\n",
            "Turbulence_In_gforces          0.157681\n",
            "Cabin_Temperature              3.600000\n",
            "Accident_Type_Code             3.000000\n",
            "Max_Elevation              12623.004605\n",
            "Violations                     2.000000\n",
            "Adverse_Weather_Metric         0.341996\n",
            "Accident_ID                 6251.750000\n",
            "dtype: float64\n"
          ],
          "name": "stdout"
        }
      ]
    },
    {
      "cell_type": "code",
      "metadata": {
        "id": "Acvp4uhEJ9-3",
        "colab_type": "code",
        "outputId": "b43d7d32-798b-434d-93b4-7b3c03919b3c",
        "colab": {
          "base_uri": "https://localhost:8080/",
          "height": 225
        }
      },
      "source": [
        "Q1 = df1.quantile(0.25)\n",
        "Q3 = df1.quantile(0.75)\n",
        "IQR = Q3 - Q1\n",
        "print(IQR)"
      ],
      "execution_count": 7,
      "outputs": [
        {
          "output_type": "stream",
          "text": [
            "Safety_Score                  22.157534\n",
            "Days_Since_Inspection          4.000000\n",
            "Total_Safety_Complaints        8.000000\n",
            "Control_Metric                15.417046\n",
            "Turbulence_In_gforces          0.149116\n",
            "Cabin_Temperature              3.600000\n",
            "Accident_Type_Code             3.000000\n",
            "Max_Elevation              12750.667354\n",
            "Violations                     2.000000\n",
            "Adverse_Weather_Metric         0.302271\n",
            "Accident_ID                 6237.500000\n",
            "dtype: float64\n"
          ],
          "name": "stdout"
        }
      ]
    },
    {
      "cell_type": "code",
      "metadata": {
        "id": "YGlYzWPRgHzT",
        "colab_type": "code",
        "colab": {}
      },
      "source": [
        ""
      ],
      "execution_count": 0,
      "outputs": []
    },
    {
      "cell_type": "code",
      "metadata": {
        "id": "pK2wCbfKgH5z",
        "colab_type": "code",
        "outputId": "810f198c-f554-4cc2-e94f-2a7b620cd8e3",
        "colab": {
          "base_uri": "https://localhost:8080/",
          "height": 34
        }
      },
      "source": [
        "df = df[~((df < (Q1 - 1.5 * IQR)) |(df > (Q3 + 1.5 * IQR))).any(axis=1)]\n",
        "df.shape"
      ],
      "execution_count": 8,
      "outputs": [
        {
          "output_type": "execute_result",
          "data": {
            "text/plain": [
              "(7929, 12)"
            ]
          },
          "metadata": {
            "tags": []
          },
          "execution_count": 8
        }
      ]
    },
    {
      "cell_type": "code",
      "metadata": {
        "id": "Tv-BkAwDgfkG",
        "colab_type": "code",
        "outputId": "78c0ffb5-3877-4ed5-d775-983d9e98b60b",
        "colab": {
          "base_uri": "https://localhost:8080/",
          "height": 444
        }
      },
      "source": [
        "df1"
      ],
      "execution_count": 9,
      "outputs": [
        {
          "output_type": "execute_result",
          "data": {
            "text/html": [
              "<div>\n",
              "<style scoped>\n",
              "    .dataframe tbody tr th:only-of-type {\n",
              "        vertical-align: middle;\n",
              "    }\n",
              "\n",
              "    .dataframe tbody tr th {\n",
              "        vertical-align: top;\n",
              "    }\n",
              "\n",
              "    .dataframe thead th {\n",
              "        text-align: right;\n",
              "    }\n",
              "</style>\n",
              "<table border=\"1\" class=\"dataframe\">\n",
              "  <thead>\n",
              "    <tr style=\"text-align: right;\">\n",
              "      <th></th>\n",
              "      <th>Safety_Score</th>\n",
              "      <th>Days_Since_Inspection</th>\n",
              "      <th>Total_Safety_Complaints</th>\n",
              "      <th>Control_Metric</th>\n",
              "      <th>Turbulence_In_gforces</th>\n",
              "      <th>Cabin_Temperature</th>\n",
              "      <th>Accident_Type_Code</th>\n",
              "      <th>Max_Elevation</th>\n",
              "      <th>Violations</th>\n",
              "      <th>Adverse_Weather_Metric</th>\n",
              "      <th>Accident_ID</th>\n",
              "    </tr>\n",
              "  </thead>\n",
              "  <tbody>\n",
              "    <tr>\n",
              "      <th>0</th>\n",
              "      <td>19.497717</td>\n",
              "      <td>16</td>\n",
              "      <td>6</td>\n",
              "      <td>72.151322</td>\n",
              "      <td>0.388959</td>\n",
              "      <td>78.32</td>\n",
              "      <td>4</td>\n",
              "      <td>37949.724386</td>\n",
              "      <td>2</td>\n",
              "      <td>0.069692</td>\n",
              "      <td>1</td>\n",
              "    </tr>\n",
              "    <tr>\n",
              "      <th>1</th>\n",
              "      <td>58.173516</td>\n",
              "      <td>15</td>\n",
              "      <td>3</td>\n",
              "      <td>64.585232</td>\n",
              "      <td>0.250841</td>\n",
              "      <td>78.60</td>\n",
              "      <td>7</td>\n",
              "      <td>30194.805567</td>\n",
              "      <td>2</td>\n",
              "      <td>0.002777</td>\n",
              "      <td>10</td>\n",
              "    </tr>\n",
              "    <tr>\n",
              "      <th>2</th>\n",
              "      <td>33.287671</td>\n",
              "      <td>15</td>\n",
              "      <td>3</td>\n",
              "      <td>64.721969</td>\n",
              "      <td>0.336669</td>\n",
              "      <td>86.96</td>\n",
              "      <td>6</td>\n",
              "      <td>17572.925484</td>\n",
              "      <td>1</td>\n",
              "      <td>0.004316</td>\n",
              "      <td>14</td>\n",
              "    </tr>\n",
              "    <tr>\n",
              "      <th>3</th>\n",
              "      <td>3.287671</td>\n",
              "      <td>21</td>\n",
              "      <td>5</td>\n",
              "      <td>66.362808</td>\n",
              "      <td>0.421775</td>\n",
              "      <td>80.86</td>\n",
              "      <td>3</td>\n",
              "      <td>40209.186341</td>\n",
              "      <td>2</td>\n",
              "      <td>0.199990</td>\n",
              "      <td>17</td>\n",
              "    </tr>\n",
              "    <tr>\n",
              "      <th>4</th>\n",
              "      <td>10.867580</td>\n",
              "      <td>18</td>\n",
              "      <td>2</td>\n",
              "      <td>56.107566</td>\n",
              "      <td>0.313228</td>\n",
              "      <td>79.22</td>\n",
              "      <td>2</td>\n",
              "      <td>35495.525408</td>\n",
              "      <td>2</td>\n",
              "      <td>0.483696</td>\n",
              "      <td>21</td>\n",
              "    </tr>\n",
              "    <tr>\n",
              "      <th>...</th>\n",
              "      <td>...</td>\n",
              "      <td>...</td>\n",
              "      <td>...</td>\n",
              "      <td>...</td>\n",
              "      <td>...</td>\n",
              "      <td>...</td>\n",
              "      <td>...</td>\n",
              "      <td>...</td>\n",
              "      <td>...</td>\n",
              "      <td>...</td>\n",
              "      <td>...</td>\n",
              "    </tr>\n",
              "    <tr>\n",
              "      <th>2495</th>\n",
              "      <td>68.127854</td>\n",
              "      <td>8</td>\n",
              "      <td>11</td>\n",
              "      <td>49.680948</td>\n",
              "      <td>0.470819</td>\n",
              "      <td>77.80</td>\n",
              "      <td>2</td>\n",
              "      <td>48251.586622</td>\n",
              "      <td>2</td>\n",
              "      <td>0.659387</td>\n",
              "      <td>12484</td>\n",
              "    </tr>\n",
              "    <tr>\n",
              "      <th>2496</th>\n",
              "      <td>54.840183</td>\n",
              "      <td>9</td>\n",
              "      <td>9</td>\n",
              "      <td>71.194166</td>\n",
              "      <td>0.417087</td>\n",
              "      <td>79.77</td>\n",
              "      <td>6</td>\n",
              "      <td>20761.984416</td>\n",
              "      <td>1</td>\n",
              "      <td>0.005010</td>\n",
              "      <td>12487</td>\n",
              "    </tr>\n",
              "    <tr>\n",
              "      <th>2497</th>\n",
              "      <td>36.712329</td>\n",
              "      <td>14</td>\n",
              "      <td>10</td>\n",
              "      <td>91.203282</td>\n",
              "      <td>0.313950</td>\n",
              "      <td>83.96</td>\n",
              "      <td>6</td>\n",
              "      <td>36676.100601</td>\n",
              "      <td>2</td>\n",
              "      <td>0.008629</td>\n",
              "      <td>12488</td>\n",
              "    </tr>\n",
              "    <tr>\n",
              "      <th>2498</th>\n",
              "      <td>38.721461</td>\n",
              "      <td>13</td>\n",
              "      <td>14</td>\n",
              "      <td>73.154057</td>\n",
              "      <td>0.275003</td>\n",
              "      <td>77.38</td>\n",
              "      <td>6</td>\n",
              "      <td>24211.359510</td>\n",
              "      <td>1</td>\n",
              "      <td>0.006247</td>\n",
              "      <td>12491</td>\n",
              "    </tr>\n",
              "    <tr>\n",
              "      <th>2499</th>\n",
              "      <td>36.073059</td>\n",
              "      <td>11</td>\n",
              "      <td>1</td>\n",
              "      <td>60.665451</td>\n",
              "      <td>0.256250</td>\n",
              "      <td>84.56</td>\n",
              "      <td>5</td>\n",
              "      <td>35920.146239</td>\n",
              "      <td>0</td>\n",
              "      <td>0.024409</td>\n",
              "      <td>12493</td>\n",
              "    </tr>\n",
              "  </tbody>\n",
              "</table>\n",
              "<p>2500 rows × 11 columns</p>\n",
              "</div>"
            ],
            "text/plain": [
              "      Safety_Score  Days_Since_Inspection  ...  Adverse_Weather_Metric  Accident_ID\n",
              "0        19.497717                     16  ...                0.069692            1\n",
              "1        58.173516                     15  ...                0.002777           10\n",
              "2        33.287671                     15  ...                0.004316           14\n",
              "3         3.287671                     21  ...                0.199990           17\n",
              "4        10.867580                     18  ...                0.483696           21\n",
              "...            ...                    ...  ...                     ...          ...\n",
              "2495     68.127854                      8  ...                0.659387        12484\n",
              "2496     54.840183                      9  ...                0.005010        12487\n",
              "2497     36.712329                     14  ...                0.008629        12488\n",
              "2498     38.721461                     13  ...                0.006247        12491\n",
              "2499     36.073059                     11  ...                0.024409        12493\n",
              "\n",
              "[2500 rows x 11 columns]"
            ]
          },
          "metadata": {
            "tags": []
          },
          "execution_count": 9
        }
      ]
    },
    {
      "cell_type": "code",
      "metadata": {
        "id": "kTA0GlCK77w5",
        "colab_type": "code",
        "colab": {}
      },
      "source": [
        "from sklearn.model_selection import train_test_split\n"
      ],
      "execution_count": 0,
      "outputs": []
    },
    {
      "cell_type": "code",
      "metadata": {
        "id": "3Bb_fIZB8C__",
        "colab_type": "code",
        "colab": {}
      },
      "source": [
        "from sklearn import preprocessing\n",
        "x=df.drop(\"Severity\",axis=1)\n",
        "\n",
        "\n",
        "\n",
        "\n",
        "y= df.Severity.values.astype(object)"
      ],
      "execution_count": 0,
      "outputs": []
    },
    {
      "cell_type": "code",
      "metadata": {
        "id": "yoFUhIHs8Rg3",
        "colab_type": "code",
        "colab": {}
      },
      "source": [
        "from sklearn.model_selection import train_test_split\n",
        "X_train, X_test, y_train, y_test = train_test_split(x, y, test_size=0.1)"
      ],
      "execution_count": 0,
      "outputs": []
    },
    {
      "cell_type": "code",
      "metadata": {
        "id": "BhqnDrzq84en",
        "colab_type": "code",
        "outputId": "e3e10586-53fe-4e76-e6ef-3ab7c7a07597",
        "colab": {
          "base_uri": "https://localhost:8080/",
          "height": 444
        }
      },
      "source": [
        "X_train"
      ],
      "execution_count": 53,
      "outputs": [
        {
          "output_type": "execute_result",
          "data": {
            "text/html": [
              "<div>\n",
              "<style scoped>\n",
              "    .dataframe tbody tr th:only-of-type {\n",
              "        vertical-align: middle;\n",
              "    }\n",
              "\n",
              "    .dataframe tbody tr th {\n",
              "        vertical-align: top;\n",
              "    }\n",
              "\n",
              "    .dataframe thead th {\n",
              "        text-align: right;\n",
              "    }\n",
              "</style>\n",
              "<table border=\"1\" class=\"dataframe\">\n",
              "  <thead>\n",
              "    <tr style=\"text-align: right;\">\n",
              "      <th></th>\n",
              "      <th>Safety_Score</th>\n",
              "      <th>Days_Since_Inspection</th>\n",
              "      <th>Total_Safety_Complaints</th>\n",
              "      <th>Control_Metric</th>\n",
              "      <th>Turbulence_In_gforces</th>\n",
              "      <th>Cabin_Temperature</th>\n",
              "      <th>Accident_Type_Code</th>\n",
              "      <th>Max_Elevation</th>\n",
              "      <th>Violations</th>\n",
              "      <th>Adverse_Weather_Metric</th>\n",
              "      <th>Accident_ID</th>\n",
              "    </tr>\n",
              "  </thead>\n",
              "  <tbody>\n",
              "    <tr>\n",
              "      <th>8410</th>\n",
              "      <td>46.255708</td>\n",
              "      <td>15</td>\n",
              "      <td>18</td>\n",
              "      <td>70.647220</td>\n",
              "      <td>0.179438</td>\n",
              "      <td>77.03</td>\n",
              "      <td>4</td>\n",
              "      <td>32958.709387</td>\n",
              "      <td>3</td>\n",
              "      <td>0.060060</td>\n",
              "      <td>3570</td>\n",
              "    </tr>\n",
              "    <tr>\n",
              "      <th>6155</th>\n",
              "      <td>40.045662</td>\n",
              "      <td>13</td>\n",
              "      <td>0</td>\n",
              "      <td>76.754786</td>\n",
              "      <td>0.242907</td>\n",
              "      <td>81.04</td>\n",
              "      <td>5</td>\n",
              "      <td>27417.599453</td>\n",
              "      <td>2</td>\n",
              "      <td>0.018465</td>\n",
              "      <td>2723</td>\n",
              "    </tr>\n",
              "    <tr>\n",
              "      <th>368</th>\n",
              "      <td>34.109589</td>\n",
              "      <td>15</td>\n",
              "      <td>9</td>\n",
              "      <td>57.885141</td>\n",
              "      <td>0.448100</td>\n",
              "      <td>83.92</td>\n",
              "      <td>6</td>\n",
              "      <td>28930.360747</td>\n",
              "      <td>2</td>\n",
              "      <td>0.007183</td>\n",
              "      <td>11484</td>\n",
              "    </tr>\n",
              "    <tr>\n",
              "      <th>8462</th>\n",
              "      <td>21.917808</td>\n",
              "      <td>18</td>\n",
              "      <td>13</td>\n",
              "      <td>72.789426</td>\n",
              "      <td>0.273560</td>\n",
              "      <td>79.24</td>\n",
              "      <td>3</td>\n",
              "      <td>47852.980051</td>\n",
              "      <td>4</td>\n",
              "      <td>0.234735</td>\n",
              "      <td>6339</td>\n",
              "    </tr>\n",
              "    <tr>\n",
              "      <th>5213</th>\n",
              "      <td>20.958904</td>\n",
              "      <td>15</td>\n",
              "      <td>0</td>\n",
              "      <td>86.645397</td>\n",
              "      <td>0.228483</td>\n",
              "      <td>81.73</td>\n",
              "      <td>4</td>\n",
              "      <td>53915.332994</td>\n",
              "      <td>0</td>\n",
              "      <td>0.100580</td>\n",
              "      <td>11645</td>\n",
              "    </tr>\n",
              "    <tr>\n",
              "      <th>...</th>\n",
              "      <td>...</td>\n",
              "      <td>...</td>\n",
              "      <td>...</td>\n",
              "      <td>...</td>\n",
              "      <td>...</td>\n",
              "      <td>...</td>\n",
              "      <td>...</td>\n",
              "      <td>...</td>\n",
              "      <td>...</td>\n",
              "      <td>...</td>\n",
              "      <td>...</td>\n",
              "    </tr>\n",
              "    <tr>\n",
              "      <th>9185</th>\n",
              "      <td>42.968037</td>\n",
              "      <td>16</td>\n",
              "      <td>3</td>\n",
              "      <td>62.762078</td>\n",
              "      <td>0.323326</td>\n",
              "      <td>83.22</td>\n",
              "      <td>3</td>\n",
              "      <td>20295.702118</td>\n",
              "      <td>1</td>\n",
              "      <td>0.101520</td>\n",
              "      <td>7967</td>\n",
              "    </tr>\n",
              "    <tr>\n",
              "      <th>7423</th>\n",
              "      <td>31.324201</td>\n",
              "      <td>15</td>\n",
              "      <td>13</td>\n",
              "      <td>71.877849</td>\n",
              "      <td>0.392565</td>\n",
              "      <td>81.85</td>\n",
              "      <td>6</td>\n",
              "      <td>25321.373031</td>\n",
              "      <td>3</td>\n",
              "      <td>0.006082</td>\n",
              "      <td>7297</td>\n",
              "    </tr>\n",
              "    <tr>\n",
              "      <th>3200</th>\n",
              "      <td>27.853881</td>\n",
              "      <td>13</td>\n",
              "      <td>3</td>\n",
              "      <td>67.274385</td>\n",
              "      <td>0.327292</td>\n",
              "      <td>79.06</td>\n",
              "      <td>4</td>\n",
              "      <td>35500.563026</td>\n",
              "      <td>3</td>\n",
              "      <td>0.065318</td>\n",
              "      <td>10441</td>\n",
              "    </tr>\n",
              "    <tr>\n",
              "      <th>1160</th>\n",
              "      <td>19.680365</td>\n",
              "      <td>16</td>\n",
              "      <td>5</td>\n",
              "      <td>60.802188</td>\n",
              "      <td>0.264184</td>\n",
              "      <td>81.82</td>\n",
              "      <td>2</td>\n",
              "      <td>36145.939467</td>\n",
              "      <td>1</td>\n",
              "      <td>0.488383</td>\n",
              "      <td>8261</td>\n",
              "    </tr>\n",
              "    <tr>\n",
              "      <th>9600</th>\n",
              "      <td>34.657534</td>\n",
              "      <td>11</td>\n",
              "      <td>5</td>\n",
              "      <td>60.847767</td>\n",
              "      <td>0.303852</td>\n",
              "      <td>76.49</td>\n",
              "      <td>4</td>\n",
              "      <td>33495.776093</td>\n",
              "      <td>1</td>\n",
              "      <td>0.060784</td>\n",
              "      <td>12281</td>\n",
              "    </tr>\n",
              "  </tbody>\n",
              "</table>\n",
              "<p>7136 rows × 11 columns</p>\n",
              "</div>"
            ],
            "text/plain": [
              "      Safety_Score  Days_Since_Inspection  ...  Adverse_Weather_Metric  Accident_ID\n",
              "8410     46.255708                     15  ...                0.060060         3570\n",
              "6155     40.045662                     13  ...                0.018465         2723\n",
              "368      34.109589                     15  ...                0.007183        11484\n",
              "8462     21.917808                     18  ...                0.234735         6339\n",
              "5213     20.958904                     15  ...                0.100580        11645\n",
              "...            ...                    ...  ...                     ...          ...\n",
              "9185     42.968037                     16  ...                0.101520         7967\n",
              "7423     31.324201                     15  ...                0.006082         7297\n",
              "3200     27.853881                     13  ...                0.065318        10441\n",
              "1160     19.680365                     16  ...                0.488383         8261\n",
              "9600     34.657534                     11  ...                0.060784        12281\n",
              "\n",
              "[7136 rows x 11 columns]"
            ]
          },
          "metadata": {
            "tags": []
          },
          "execution_count": 53
        }
      ]
    },
    {
      "cell_type": "code",
      "metadata": {
        "id": "iyKq6m_0_5rF",
        "colab_type": "code",
        "outputId": "10f23423-0473-40d2-faf1-98df84bd9fdc",
        "colab": {
          "base_uri": "https://localhost:8080/",
          "height": 104
        }
      },
      "source": [
        "y_train"
      ],
      "execution_count": 54,
      "outputs": [
        {
          "output_type": "execute_result",
          "data": {
            "text/plain": [
              "array(['Minor_Damage_And_Injuries',\n",
              "       'Significant_Damage_And_Serious_Injuries',\n",
              "       'Significant_Damage_And_Serious_Injuries', ...,\n",
              "       'Highly_Fatal_And_Damaging', 'Highly_Fatal_And_Damaging',\n",
              "       'Highly_Fatal_And_Damaging'], dtype=object)"
            ]
          },
          "metadata": {
            "tags": []
          },
          "execution_count": 54
        }
      ]
    },
    {
      "cell_type": "code",
      "metadata": {
        "id": "irKNwTLbFgAO",
        "colab_type": "code",
        "colab": {}
      },
      "source": [
        "y_train = y_train.astype(object)"
      ],
      "execution_count": 0,
      "outputs": []
    },
    {
      "cell_type": "code",
      "metadata": {
        "id": "hFQ64xmB8hdD",
        "colab_type": "code",
        "outputId": "e63f63ec-95f1-4867-bde8-7c3162816edd",
        "colab": {
          "base_uri": "https://localhost:8080/",
          "height": 34
        }
      },
      "source": [
        "\n",
        "\n",
        "print(\"Dimension of Train set\",X_train.shape)\n",
        "#print(\"Dimension of Test set\",X_test.shape,\"\\n\")\n",
        "\n",
        "\n",
        "from sklearn import preprocessing\n",
        "encoder = preprocessing.LabelEncoder()\n",
        "\n",
        "\n",
        "encoder.fit(y_train)\n",
        "Y_train = encoder.transform(y_train)\n",
        "\n",
        "# encoding test labels \n",
        "encoder.fit(y_test)\n",
        "Y_test = encoder.transform(y_test)\n",
        "\n",
        "#Total Number of Continous and Categorical features in the training set\n",
        "\n",
        "#list(set(X_train.columns) - set(num_cols))\n",
        "\n",
        "\n",
        "\n",
        "\n",
        "# Scaling the Train and Test feature set \n"
      ],
      "execution_count": 56,
      "outputs": [
        {
          "output_type": "stream",
          "text": [
            "Dimension of Train set (7136, 11)\n"
          ],
          "name": "stdout"
        }
      ]
    },
    {
      "cell_type": "code",
      "metadata": {
        "id": "IkdRS81AAMxb",
        "colab_type": "code",
        "outputId": "78cde6d7-85bb-4a41-b803-2de25c9e369e",
        "colab": {
          "base_uri": "https://localhost:8080/",
          "height": 34
        }
      },
      "source": [
        "\n",
        "len(Y_train)"
      ],
      "execution_count": 57,
      "outputs": [
        {
          "output_type": "execute_result",
          "data": {
            "text/plain": [
              "7136"
            ]
          },
          "metadata": {
            "tags": []
          },
          "execution_count": 57
        }
      ]
    },
    {
      "cell_type": "code",
      "metadata": {
        "id": "ol0an9RgARB3",
        "colab_type": "code",
        "outputId": "a0887284-f3b4-4763-b3f9-22e48ae7cc40",
        "colab": {
          "base_uri": "https://localhost:8080/",
          "height": 34
        }
      },
      "source": [
        "X_train.shape"
      ],
      "execution_count": 58,
      "outputs": [
        {
          "output_type": "execute_result",
          "data": {
            "text/plain": [
              "(7136, 11)"
            ]
          },
          "metadata": {
            "tags": []
          },
          "execution_count": 58
        }
      ]
    },
    {
      "cell_type": "code",
      "metadata": {
        "id": "6XUG0M9Q9JmC",
        "colab_type": "code",
        "colab": {}
      },
      "source": [
        "from sklearn.svm import SVC\n",
        "from sklearn.model_selection import cross_val_score, GridSearchCV\n",
        "from sklearn.metrics import confusion_matrix,classification_report"
      ],
      "execution_count": 0,
      "outputs": []
    },
    {
      "cell_type": "code",
      "metadata": {
        "id": "vpUydCBU9oyg",
        "colab_type": "code",
        "colab": {}
      },
      "source": [
        "params_grid = [{'kernel': ['rbf'], 'gamma': [1e-3, 1e-4],\n",
        "                     'C': [1, 10, 100, 1000]},\n",
        "                    {'kernel': ['linear'], 'C': [1, 10, 100, 1000]}]\n"
      ],
      "execution_count": 0,
      "outputs": []
    },
    {
      "cell_type": "code",
      "metadata": {
        "id": "nproiPSB9rQc",
        "colab_type": "code",
        "colab": {}
      },
      "source": [
        "\n",
        "from sklearn import tree\n",
        "from sklearn import decomposition, datasets\n",
        "sc = StandardScaler()\n",
        "pca = decomposition.PCA()\n",
        "decisiontree = tree.DecisionTreeClassifier()\n",
        "from sklearn import decomposition, datasets\n",
        "from sklearn.pipeline import Pipeline\n",
        "pipe = Pipeline(steps=[('sc', sc),\n",
        "                           ('pca', pca),\n",
        "                           ('decisiontree', decisiontree)])\n",
        "n_components = list(range(1,x.shape[1]+1,1))\n",
        "criterion = ['gini', 'entropy']\n",
        "max_depth = [4,6,8,12,56,500]\n",
        "parameters = dict(pca__n_components=n_components,\n",
        "                      decisiontree__criterion=criterion,\n",
        "                      decisiontree__max_depth=max_depth)\n",
        "\n",
        "clf = GridSearchCV(pipe, parameters)"
      ],
      "execution_count": 0,
      "outputs": []
    },
    {
      "cell_type": "code",
      "metadata": {
        "id": "IGv81xK49w-b",
        "colab_type": "code",
        "colab": {}
      },
      "source": [
        "model = tree.DecisionTreeClassifier(ccp_alpha=0.0, class_weight=None, criterion='entropy',\n",
        "                       max_depth=56, max_features=None, max_leaf_nodes=400,\n",
        "                       min_impurity_decrease=0.0, min_impurity_split=None,\n",
        "                       min_samples_leaf=1, min_samples_split=4,\n",
        "                       min_weight_fraction_leaf=0.0, presort='deprecated',\n",
        "                       random_state=None, splitter='best')"
      ],
      "execution_count": 0,
      "outputs": []
    },
    {
      "cell_type": "code",
      "metadata": {
        "id": "J6ETsmeh_PcC",
        "colab_type": "code",
        "outputId": "8cfbe266-ab84-4209-cba8-aaf046a33b1f",
        "colab": {
          "base_uri": "https://localhost:8080/",
          "height": 521
        }
      },
      "source": [
        "clf.fit(X_train, Y_train)"
      ],
      "execution_count": 72,
      "outputs": [
        {
          "output_type": "execute_result",
          "data": {
            "text/plain": [
              "GridSearchCV(cv=None, error_score=nan,\n",
              "             estimator=Pipeline(memory=None,\n",
              "                                steps=[('sc',\n",
              "                                        StandardScaler(copy=True,\n",
              "                                                       with_mean=True,\n",
              "                                                       with_std=True)),\n",
              "                                       ('pca',\n",
              "                                        PCA(copy=True, iterated_power='auto',\n",
              "                                            n_components=None,\n",
              "                                            random_state=None,\n",
              "                                            svd_solver='auto', tol=0.0,\n",
              "                                            whiten=False)),\n",
              "                                       ('decisiontree',\n",
              "                                        DecisionTreeClassifier(ccp_alpha=0.0,\n",
              "                                                               class_weight=None,\n",
              "                                                               criterion='gini',\n",
              "                                                               max_d...\n",
              "                                                               min_weight_fraction_leaf=0.0,\n",
              "                                                               presort='deprecated',\n",
              "                                                               random_state=None,\n",
              "                                                               splitter='best'))],\n",
              "                                verbose=False),\n",
              "             iid='deprecated', n_jobs=None,\n",
              "             param_grid={'decisiontree__criterion': ['gini', 'entropy'],\n",
              "                         'decisiontree__max_depth': [4, 6, 8, 12, 56, 500],\n",
              "                         'pca__n_components': [1, 2, 3, 4, 5, 6, 7, 8, 9, 10,\n",
              "                                               11]},\n",
              "             pre_dispatch='2*n_jobs', refit=True, return_train_score=False,\n",
              "             scoring=None, verbose=0)"
            ]
          },
          "metadata": {
            "tags": []
          },
          "execution_count": 72
        }
      ]
    },
    {
      "cell_type": "code",
      "metadata": {
        "id": "GzK8I6iwmcGh",
        "colab_type": "code",
        "colab": {
          "base_uri": "https://localhost:8080/",
          "height": 191
        },
        "outputId": "f4af97f2-ced6-4fbb-a3e0-4f468f370c5d"
      },
      "source": [
        "print('Best Criterion:', clf.best_estimator_.get_params()['decisiontree__criterion'])\n",
        "print('Best max_depth:', clf.best_estimator_.get_params()['decisiontree__max_depth'])\n",
        "print('Best Number Of Components:', clf.best_estimator_.get_params()['pca__n_components'])\n",
        "print(); print(clf.best_estimator_.get_params()['decisiontree'])\n"
      ],
      "execution_count": 73,
      "outputs": [
        {
          "output_type": "stream",
          "text": [
            "Best Criterion: entropy\n",
            "Best max_depth: 500\n",
            "Best Number Of Components: 11\n",
            "\n",
            "DecisionTreeClassifier(ccp_alpha=0.0, class_weight=None, criterion='entropy',\n",
            "                       max_depth=500, max_features=None, max_leaf_nodes=None,\n",
            "                       min_impurity_decrease=0.0, min_impurity_split=None,\n",
            "                       min_samples_leaf=1, min_samples_split=2,\n",
            "                       min_weight_fraction_leaf=0.0, presort='deprecated',\n",
            "                       random_state=None, splitter='best')\n"
          ],
          "name": "stdout"
        }
      ]
    },
    {
      "cell_type": "code",
      "metadata": {
        "id": "MofouL1GHCQu",
        "colab_type": "code",
        "colab": {}
      },
      "source": [
        "y_predict = clf.predict(X_test)"
      ],
      "execution_count": 0,
      "outputs": []
    },
    {
      "cell_type": "code",
      "metadata": {
        "id": "2nwGDDtIHYRB",
        "colab_type": "code",
        "colab": {
          "base_uri": "https://localhost:8080/",
          "height": 660
        },
        "outputId": "28291728-a13d-4cf5-9674-9be0d25cdcec"
      },
      "source": [
        "y_predict"
      ],
      "execution_count": 75,
      "outputs": [
        {
          "output_type": "execute_result",
          "data": {
            "text/plain": [
              "array([1, 0, 3, 0, 2, 0, 2, 2, 0, 3, 1, 1, 2, 2, 0, 1, 2, 0, 2, 1, 2, 3,\n",
              "       0, 1, 0, 3, 1, 3, 0, 0, 1, 0, 0, 2, 3, 2, 3, 3, 3, 0, 3, 3, 3, 1,\n",
              "       1, 0, 0, 1, 3, 3, 3, 3, 0, 1, 0, 2, 1, 0, 1, 2, 0, 2, 3, 2, 0, 0,\n",
              "       3, 0, 3, 1, 2, 3, 1, 2, 1, 1, 3, 3, 0, 2, 1, 3, 0, 2, 3, 0, 0, 0,\n",
              "       2, 1, 2, 3, 3, 3, 0, 1, 1, 1, 0, 3, 1, 0, 0, 0, 2, 3, 3, 2, 3, 3,\n",
              "       1, 1, 0, 1, 1, 0, 3, 3, 0, 1, 1, 0, 3, 3, 0, 0, 3, 0, 0, 0, 3, 3,\n",
              "       0, 3, 0, 2, 0, 0, 3, 1, 0, 0, 1, 3, 1, 1, 1, 0, 3, 2, 1, 3, 3, 1,\n",
              "       1, 1, 3, 2, 1, 3, 3, 0, 3, 0, 2, 3, 0, 2, 0, 2, 3, 0, 0, 1, 2, 1,\n",
              "       0, 2, 1, 1, 3, 3, 2, 2, 0, 3, 0, 0, 3, 0, 2, 3, 1, 1, 1, 0, 1, 0,\n",
              "       1, 0, 1, 0, 0, 3, 3, 3, 2, 3, 0, 1, 3, 3, 1, 3, 2, 2, 1, 2, 2, 0,\n",
              "       0, 3, 0, 2, 3, 1, 0, 3, 3, 0, 1, 3, 0, 2, 1, 2, 0, 0, 0, 3, 0, 1,\n",
              "       1, 1, 3, 3, 3, 3, 2, 0, 1, 1, 0, 1, 0, 1, 0, 1, 2, 0, 2, 3, 0, 1,\n",
              "       0, 1, 0, 1, 3, 0, 3, 0, 0, 1, 1, 0, 2, 1, 3, 3, 0, 0, 3, 1, 0, 1,\n",
              "       1, 0, 2, 1, 0, 1, 0, 1, 1, 3, 1, 1, 2, 1, 1, 1, 0, 3, 0, 1, 0, 3,\n",
              "       1, 3, 3, 1, 1, 1, 0, 0, 3, 3, 1, 3, 3, 2, 1, 3, 1, 3, 3, 1, 0, 0,\n",
              "       3, 0, 1, 0, 3, 1, 0, 2, 1, 3, 3, 0, 3, 2, 1, 3, 3, 1, 0, 3, 2, 0,\n",
              "       1, 2, 3, 0, 0, 0, 3, 1, 3, 3, 2, 1, 2, 2, 3, 1, 3, 1, 3, 2, 0, 0,\n",
              "       2, 3, 0, 0, 0, 1, 0, 3, 0, 2, 0, 3, 0, 1, 3, 3, 1, 1, 3, 0, 0, 1,\n",
              "       3, 2, 3, 3, 0, 2, 2, 2, 0, 3, 2, 1, 3, 1, 3, 1, 0, 1, 3, 1, 3, 3,\n",
              "       1, 1, 3, 3, 3, 0, 2, 1, 3, 2, 1, 0, 1, 1, 3, 0, 1, 1, 0, 3, 0, 0,\n",
              "       1, 3, 0, 0, 3, 1, 0, 2, 2, 1, 0, 0, 1, 3, 2, 3, 3, 1, 3, 3, 1, 2,\n",
              "       1, 0, 2, 0, 2, 1, 1, 0, 0, 1, 0, 0, 0, 0, 2, 2, 1, 3, 3, 0, 3, 0,\n",
              "       0, 0, 3, 0, 3, 3, 1, 3, 3, 3, 3, 3, 1, 0, 2, 3, 1, 1, 1, 0, 1, 3,\n",
              "       1, 1, 3, 3, 0, 2, 2, 0, 0, 0, 2, 3, 2, 2, 3, 0, 1, 0, 1, 3, 3, 1,\n",
              "       2, 2, 3, 0, 1, 0, 3, 2, 3, 0, 1, 3, 3, 1, 3, 0, 3, 2, 0, 3, 1, 3,\n",
              "       3, 2, 1, 2, 0, 1, 0, 1, 3, 3, 3, 2, 3, 1, 0, 3, 2, 3, 1, 3, 3, 0,\n",
              "       0, 0, 1, 1, 3, 2, 0, 0, 3, 3, 0, 0, 1, 3, 0, 2, 1, 2, 2, 0, 0, 2,\n",
              "       1, 0, 2, 3, 2, 0, 0, 0, 0, 2, 0, 3, 0, 1, 0, 0, 1, 2, 2, 3, 1, 1,\n",
              "       0, 2, 2, 1, 1, 1, 0, 1, 3, 1, 0, 2, 0, 0, 0, 3, 0, 0, 3, 3, 2, 3,\n",
              "       3, 3, 1, 2, 0, 2, 0, 0, 0, 1, 2, 1, 3, 0, 3, 3, 3, 1, 0, 1, 0, 2,\n",
              "       1, 3, 2, 1, 3, 0, 0, 1, 1, 0, 0, 2, 2, 1, 3, 1, 1, 2, 3, 3, 1, 3,\n",
              "       3, 1, 3, 0, 3, 3, 0, 0, 1, 3, 0, 2, 1, 1, 0, 3, 3, 3, 1, 0, 1, 2,\n",
              "       3, 1, 0, 0, 1, 2, 0, 1, 1, 2, 0, 3, 1, 0, 3, 0, 1, 0, 0, 2, 2, 0,\n",
              "       1, 3, 3, 2, 2, 1, 3, 3, 3, 3, 0, 1, 1, 2, 2, 1, 3, 3, 3, 3, 3, 2,\n",
              "       3, 0, 1, 2, 0, 2, 1, 3, 2, 3, 3, 3, 3, 0, 0, 3, 1, 0, 2, 0, 0, 3,\n",
              "       1, 1, 1, 0, 0, 0, 0, 1, 3, 0, 0, 0, 0, 1, 0, 3, 2, 0, 3, 1, 0, 1,\n",
              "       3])"
            ]
          },
          "metadata": {
            "tags": []
          },
          "execution_count": 75
        }
      ]
    },
    {
      "cell_type": "code",
      "metadata": {
        "id": "YdJgNMueHbfS",
        "colab_type": "code",
        "colab": {
          "base_uri": "https://localhost:8080/",
          "height": 660
        },
        "outputId": "80143221-ae38-43db-aa83-9661597a8fce"
      },
      "source": [
        "Y_test"
      ],
      "execution_count": 76,
      "outputs": [
        {
          "output_type": "execute_result",
          "data": {
            "text/plain": [
              "array([3, 0, 3, 0, 2, 0, 2, 2, 0, 3, 1, 1, 2, 2, 0, 3, 2, 0, 2, 1, 2, 3,\n",
              "       0, 1, 0, 0, 1, 1, 0, 0, 1, 0, 0, 2, 3, 2, 3, 3, 3, 0, 0, 3, 3, 1,\n",
              "       1, 0, 0, 1, 3, 3, 3, 1, 0, 1, 0, 2, 1, 3, 1, 2, 3, 2, 3, 0, 0, 0,\n",
              "       3, 0, 3, 1, 2, 3, 1, 2, 1, 1, 3, 3, 0, 2, 1, 3, 0, 2, 3, 0, 0, 0,\n",
              "       2, 1, 2, 3, 3, 3, 0, 3, 1, 1, 3, 3, 1, 3, 0, 0, 2, 3, 3, 0, 3, 3,\n",
              "       1, 3, 0, 0, 1, 0, 3, 3, 0, 1, 0, 0, 3, 3, 0, 0, 3, 0, 0, 0, 3, 3,\n",
              "       0, 3, 3, 2, 2, 0, 3, 3, 0, 0, 1, 3, 1, 1, 1, 0, 3, 2, 1, 3, 1, 1,\n",
              "       1, 1, 3, 2, 1, 3, 3, 2, 3, 0, 2, 3, 1, 2, 0, 2, 3, 0, 0, 1, 2, 2,\n",
              "       0, 2, 1, 1, 1, 3, 0, 2, 0, 2, 0, 0, 3, 1, 2, 3, 1, 1, 1, 0, 1, 0,\n",
              "       1, 0, 1, 0, 3, 0, 3, 3, 3, 3, 0, 0, 3, 3, 1, 3, 2, 2, 1, 2, 2, 0,\n",
              "       0, 3, 0, 2, 3, 1, 0, 3, 3, 0, 3, 1, 0, 2, 3, 2, 0, 0, 0, 3, 0, 1,\n",
              "       1, 1, 3, 3, 3, 3, 2, 0, 0, 2, 0, 1, 0, 3, 0, 1, 2, 0, 0, 3, 0, 1,\n",
              "       1, 1, 0, 1, 3, 2, 3, 0, 2, 1, 1, 2, 2, 1, 3, 1, 1, 0, 3, 3, 0, 1,\n",
              "       1, 0, 2, 1, 0, 3, 0, 0, 1, 3, 1, 0, 2, 1, 1, 1, 1, 3, 0, 1, 0, 3,\n",
              "       1, 2, 3, 1, 1, 1, 3, 0, 3, 3, 1, 3, 3, 2, 1, 3, 1, 3, 3, 0, 0, 0,\n",
              "       3, 0, 1, 0, 3, 1, 0, 2, 1, 1, 3, 0, 3, 2, 1, 3, 3, 0, 0, 3, 2, 0,\n",
              "       1, 2, 3, 1, 0, 0, 1, 1, 3, 3, 2, 1, 2, 2, 3, 1, 1, 1, 3, 2, 2, 0,\n",
              "       2, 3, 0, 0, 0, 1, 0, 1, 3, 0, 0, 3, 2, 1, 3, 3, 1, 1, 3, 0, 2, 1,\n",
              "       3, 2, 3, 3, 0, 2, 2, 2, 0, 3, 2, 1, 3, 1, 0, 1, 0, 1, 3, 1, 3, 0,\n",
              "       1, 1, 3, 0, 3, 0, 2, 1, 1, 2, 1, 2, 1, 1, 3, 0, 1, 3, 3, 0, 0, 0,\n",
              "       1, 3, 0, 0, 0, 1, 0, 2, 2, 1, 0, 0, 1, 1, 2, 3, 1, 2, 0, 3, 1, 2,\n",
              "       1, 3, 2, 0, 0, 0, 1, 0, 2, 1, 0, 0, 0, 0, 0, 2, 1, 3, 3, 0, 3, 0,\n",
              "       2, 0, 2, 0, 3, 3, 1, 3, 3, 3, 3, 3, 1, 1, 2, 3, 1, 1, 1, 0, 0, 3,\n",
              "       1, 1, 0, 1, 0, 3, 2, 0, 1, 0, 2, 3, 2, 2, 1, 2, 1, 0, 1, 3, 3, 1,\n",
              "       2, 2, 2, 0, 1, 3, 3, 2, 3, 0, 2, 3, 3, 1, 3, 0, 3, 3, 0, 3, 1, 3,\n",
              "       3, 2, 1, 2, 0, 1, 0, 1, 3, 1, 3, 0, 3, 1, 0, 2, 2, 2, 1, 3, 3, 0,\n",
              "       0, 0, 1, 1, 3, 2, 0, 1, 3, 3, 0, 1, 1, 3, 3, 2, 1, 2, 2, 0, 2, 0,\n",
              "       1, 0, 2, 3, 2, 0, 0, 1, 0, 0, 0, 3, 2, 1, 0, 2, 1, 2, 2, 3, 1, 1,\n",
              "       0, 2, 2, 1, 2, 1, 0, 1, 3, 1, 2, 2, 0, 0, 0, 3, 0, 0, 3, 3, 2, 3,\n",
              "       3, 3, 1, 2, 0, 2, 1, 2, 1, 1, 2, 1, 3, 2, 0, 3, 3, 1, 0, 1, 3, 2,\n",
              "       1, 3, 2, 3, 3, 0, 0, 1, 3, 0, 0, 2, 0, 1, 3, 1, 1, 2, 3, 3, 1, 3,\n",
              "       3, 3, 3, 0, 3, 3, 3, 0, 0, 3, 0, 0, 1, 1, 0, 0, 2, 3, 1, 0, 1, 2,\n",
              "       3, 1, 1, 0, 1, 2, 0, 0, 0, 2, 0, 3, 1, 0, 3, 0, 1, 0, 0, 2, 2, 0,\n",
              "       0, 3, 3, 2, 2, 0, 3, 3, 3, 3, 1, 1, 1, 2, 2, 1, 1, 3, 3, 3, 3, 2,\n",
              "       3, 0, 1, 2, 0, 2, 1, 3, 1, 3, 3, 3, 3, 0, 0, 3, 1, 0, 2, 0, 0, 3,\n",
              "       1, 1, 1, 0, 0, 0, 0, 1, 3, 2, 3, 0, 0, 1, 2, 3, 0, 3, 3, 1, 0, 1,\n",
              "       3])"
            ]
          },
          "metadata": {
            "tags": []
          },
          "execution_count": 76
        }
      ]
    },
    {
      "cell_type": "code",
      "metadata": {
        "id": "mmgZg5L9HP0p",
        "colab_type": "code",
        "colab": {}
      },
      "source": [
        "from sklearn.metrics import accuracy_score"
      ],
      "execution_count": 0,
      "outputs": []
    },
    {
      "cell_type": "code",
      "metadata": {
        "id": "OSsb4fbAHStn",
        "colab_type": "code",
        "colab": {
          "base_uri": "https://localhost:8080/",
          "height": 34
        },
        "outputId": "91315c15-bc5d-4828-ceaf-49a365e648e2"
      },
      "source": [
        "\n",
        "accuracy_score(Y_test, y_predict)"
      ],
      "execution_count": 78,
      "outputs": [
        {
          "output_type": "execute_result",
          "data": {
            "text/plain": [
              "0.8259773013871374"
            ]
          },
          "metadata": {
            "tags": []
          },
          "execution_count": 78
        }
      ]
    },
    {
      "cell_type": "code",
      "metadata": {
        "id": "fdJmUdbIHVZY",
        "colab_type": "code",
        "colab": {}
      },
      "source": [
        "test = pd.read_csv('test.csv')"
      ],
      "execution_count": 0,
      "outputs": []
    },
    {
      "cell_type": "code",
      "metadata": {
        "id": "6M4n8ZJeHvTX",
        "colab_type": "code",
        "colab": {
          "base_uri": "https://localhost:8080/",
          "height": 444
        },
        "outputId": "c9d68692-ec53-4efb-86fd-f858ac2c20c9"
      },
      "source": [
        "test"
      ],
      "execution_count": 80,
      "outputs": [
        {
          "output_type": "execute_result",
          "data": {
            "text/html": [
              "<div>\n",
              "<style scoped>\n",
              "    .dataframe tbody tr th:only-of-type {\n",
              "        vertical-align: middle;\n",
              "    }\n",
              "\n",
              "    .dataframe tbody tr th {\n",
              "        vertical-align: top;\n",
              "    }\n",
              "\n",
              "    .dataframe thead th {\n",
              "        text-align: right;\n",
              "    }\n",
              "</style>\n",
              "<table border=\"1\" class=\"dataframe\">\n",
              "  <thead>\n",
              "    <tr style=\"text-align: right;\">\n",
              "      <th></th>\n",
              "      <th>Safety_Score</th>\n",
              "      <th>Days_Since_Inspection</th>\n",
              "      <th>Total_Safety_Complaints</th>\n",
              "      <th>Control_Metric</th>\n",
              "      <th>Turbulence_In_gforces</th>\n",
              "      <th>Cabin_Temperature</th>\n",
              "      <th>Accident_Type_Code</th>\n",
              "      <th>Max_Elevation</th>\n",
              "      <th>Violations</th>\n",
              "      <th>Adverse_Weather_Metric</th>\n",
              "      <th>Accident_ID</th>\n",
              "    </tr>\n",
              "  </thead>\n",
              "  <tbody>\n",
              "    <tr>\n",
              "      <th>0</th>\n",
              "      <td>19.497717</td>\n",
              "      <td>16</td>\n",
              "      <td>6</td>\n",
              "      <td>72.151322</td>\n",
              "      <td>0.388959</td>\n",
              "      <td>78.32</td>\n",
              "      <td>4</td>\n",
              "      <td>37949.724386</td>\n",
              "      <td>2</td>\n",
              "      <td>0.069692</td>\n",
              "      <td>1</td>\n",
              "    </tr>\n",
              "    <tr>\n",
              "      <th>1</th>\n",
              "      <td>58.173516</td>\n",
              "      <td>15</td>\n",
              "      <td>3</td>\n",
              "      <td>64.585232</td>\n",
              "      <td>0.250841</td>\n",
              "      <td>78.60</td>\n",
              "      <td>7</td>\n",
              "      <td>30194.805567</td>\n",
              "      <td>2</td>\n",
              "      <td>0.002777</td>\n",
              "      <td>10</td>\n",
              "    </tr>\n",
              "    <tr>\n",
              "      <th>2</th>\n",
              "      <td>33.287671</td>\n",
              "      <td>15</td>\n",
              "      <td>3</td>\n",
              "      <td>64.721969</td>\n",
              "      <td>0.336669</td>\n",
              "      <td>86.96</td>\n",
              "      <td>6</td>\n",
              "      <td>17572.925484</td>\n",
              "      <td>1</td>\n",
              "      <td>0.004316</td>\n",
              "      <td>14</td>\n",
              "    </tr>\n",
              "    <tr>\n",
              "      <th>3</th>\n",
              "      <td>3.287671</td>\n",
              "      <td>21</td>\n",
              "      <td>5</td>\n",
              "      <td>66.362808</td>\n",
              "      <td>0.421775</td>\n",
              "      <td>80.86</td>\n",
              "      <td>3</td>\n",
              "      <td>40209.186341</td>\n",
              "      <td>2</td>\n",
              "      <td>0.199990</td>\n",
              "      <td>17</td>\n",
              "    </tr>\n",
              "    <tr>\n",
              "      <th>4</th>\n",
              "      <td>10.867580</td>\n",
              "      <td>18</td>\n",
              "      <td>2</td>\n",
              "      <td>56.107566</td>\n",
              "      <td>0.313228</td>\n",
              "      <td>79.22</td>\n",
              "      <td>2</td>\n",
              "      <td>35495.525408</td>\n",
              "      <td>2</td>\n",
              "      <td>0.483696</td>\n",
              "      <td>21</td>\n",
              "    </tr>\n",
              "    <tr>\n",
              "      <th>...</th>\n",
              "      <td>...</td>\n",
              "      <td>...</td>\n",
              "      <td>...</td>\n",
              "      <td>...</td>\n",
              "      <td>...</td>\n",
              "      <td>...</td>\n",
              "      <td>...</td>\n",
              "      <td>...</td>\n",
              "      <td>...</td>\n",
              "      <td>...</td>\n",
              "      <td>...</td>\n",
              "    </tr>\n",
              "    <tr>\n",
              "      <th>2495</th>\n",
              "      <td>68.127854</td>\n",
              "      <td>8</td>\n",
              "      <td>11</td>\n",
              "      <td>49.680948</td>\n",
              "      <td>0.470819</td>\n",
              "      <td>77.80</td>\n",
              "      <td>2</td>\n",
              "      <td>48251.586622</td>\n",
              "      <td>2</td>\n",
              "      <td>0.659387</td>\n",
              "      <td>12484</td>\n",
              "    </tr>\n",
              "    <tr>\n",
              "      <th>2496</th>\n",
              "      <td>54.840183</td>\n",
              "      <td>9</td>\n",
              "      <td>9</td>\n",
              "      <td>71.194166</td>\n",
              "      <td>0.417087</td>\n",
              "      <td>79.77</td>\n",
              "      <td>6</td>\n",
              "      <td>20761.984416</td>\n",
              "      <td>1</td>\n",
              "      <td>0.005010</td>\n",
              "      <td>12487</td>\n",
              "    </tr>\n",
              "    <tr>\n",
              "      <th>2497</th>\n",
              "      <td>36.712329</td>\n",
              "      <td>14</td>\n",
              "      <td>10</td>\n",
              "      <td>91.203282</td>\n",
              "      <td>0.313950</td>\n",
              "      <td>83.96</td>\n",
              "      <td>6</td>\n",
              "      <td>36676.100601</td>\n",
              "      <td>2</td>\n",
              "      <td>0.008629</td>\n",
              "      <td>12488</td>\n",
              "    </tr>\n",
              "    <tr>\n",
              "      <th>2498</th>\n",
              "      <td>38.721461</td>\n",
              "      <td>13</td>\n",
              "      <td>14</td>\n",
              "      <td>73.154057</td>\n",
              "      <td>0.275003</td>\n",
              "      <td>77.38</td>\n",
              "      <td>6</td>\n",
              "      <td>24211.359510</td>\n",
              "      <td>1</td>\n",
              "      <td>0.006247</td>\n",
              "      <td>12491</td>\n",
              "    </tr>\n",
              "    <tr>\n",
              "      <th>2499</th>\n",
              "      <td>36.073059</td>\n",
              "      <td>11</td>\n",
              "      <td>1</td>\n",
              "      <td>60.665451</td>\n",
              "      <td>0.256250</td>\n",
              "      <td>84.56</td>\n",
              "      <td>5</td>\n",
              "      <td>35920.146239</td>\n",
              "      <td>0</td>\n",
              "      <td>0.024409</td>\n",
              "      <td>12493</td>\n",
              "    </tr>\n",
              "  </tbody>\n",
              "</table>\n",
              "<p>2500 rows × 11 columns</p>\n",
              "</div>"
            ],
            "text/plain": [
              "      Safety_Score  Days_Since_Inspection  ...  Adverse_Weather_Metric  Accident_ID\n",
              "0        19.497717                     16  ...                0.069692            1\n",
              "1        58.173516                     15  ...                0.002777           10\n",
              "2        33.287671                     15  ...                0.004316           14\n",
              "3         3.287671                     21  ...                0.199990           17\n",
              "4        10.867580                     18  ...                0.483696           21\n",
              "...            ...                    ...  ...                     ...          ...\n",
              "2495     68.127854                      8  ...                0.659387        12484\n",
              "2496     54.840183                      9  ...                0.005010        12487\n",
              "2497     36.712329                     14  ...                0.008629        12488\n",
              "2498     38.721461                     13  ...                0.006247        12491\n",
              "2499     36.073059                     11  ...                0.024409        12493\n",
              "\n",
              "[2500 rows x 11 columns]"
            ]
          },
          "metadata": {
            "tags": []
          },
          "execution_count": 80
        }
      ]
    },
    {
      "cell_type": "code",
      "metadata": {
        "id": "x3leaWLbHx2E",
        "colab_type": "code",
        "colab": {}
      },
      "source": [
        "y_predict1 = clf.predict(test)"
      ],
      "execution_count": 0,
      "outputs": []
    },
    {
      "cell_type": "code",
      "metadata": {
        "id": "bi477W3oH3J1",
        "colab_type": "code",
        "colab": {
          "base_uri": "https://localhost:8080/",
          "height": 34
        },
        "outputId": "eaf3204a-08d8-4bf4-b3c0-a6eec94b8221"
      },
      "source": [
        "y_predict1"
      ],
      "execution_count": 82,
      "outputs": [
        {
          "output_type": "execute_result",
          "data": {
            "text/plain": [
              "array([0, 2, 1, ..., 3, 3, 0])"
            ]
          },
          "metadata": {
            "tags": []
          },
          "execution_count": 82
        }
      ]
    },
    {
      "cell_type": "code",
      "metadata": {
        "id": "aPa0qrNUH8Td",
        "colab_type": "code",
        "colab": {}
      },
      "source": [
        "s = pd.read_csv('sample_submission.csv')"
      ],
      "execution_count": 0,
      "outputs": []
    },
    {
      "cell_type": "code",
      "metadata": {
        "id": "xdd-cXmqIGik",
        "colab_type": "code",
        "colab": {
          "base_uri": "https://localhost:8080/",
          "height": 363
        },
        "outputId": "e2c56247-7ae3-4cec-bbc3-1f187091fc7b"
      },
      "source": [
        "s"
      ],
      "execution_count": 84,
      "outputs": [
        {
          "output_type": "execute_result",
          "data": {
            "text/html": [
              "<div>\n",
              "<style scoped>\n",
              "    .dataframe tbody tr th:only-of-type {\n",
              "        vertical-align: middle;\n",
              "    }\n",
              "\n",
              "    .dataframe tbody tr th {\n",
              "        vertical-align: top;\n",
              "    }\n",
              "\n",
              "    .dataframe thead th {\n",
              "        text-align: right;\n",
              "    }\n",
              "</style>\n",
              "<table border=\"1\" class=\"dataframe\">\n",
              "  <thead>\n",
              "    <tr style=\"text-align: right;\">\n",
              "      <th></th>\n",
              "      <th>Accident_ID</th>\n",
              "      <th>Severity</th>\n",
              "    </tr>\n",
              "  </thead>\n",
              "  <tbody>\n",
              "    <tr>\n",
              "      <th>0</th>\n",
              "      <td>1</td>\n",
              "      <td>Minor_Damage_And_Injuries</td>\n",
              "    </tr>\n",
              "    <tr>\n",
              "      <th>1</th>\n",
              "      <td>10</td>\n",
              "      <td>Highly_Fatal_And_Damaging</td>\n",
              "    </tr>\n",
              "    <tr>\n",
              "      <th>2</th>\n",
              "      <td>14</td>\n",
              "      <td>Highly_Fatal_And_Damaging</td>\n",
              "    </tr>\n",
              "    <tr>\n",
              "      <th>3</th>\n",
              "      <td>17</td>\n",
              "      <td>Significant_Damage_And_Serious_Injuries</td>\n",
              "    </tr>\n",
              "    <tr>\n",
              "      <th>4</th>\n",
              "      <td>21</td>\n",
              "      <td>Minor_Damage_And_Injuries</td>\n",
              "    </tr>\n",
              "    <tr>\n",
              "      <th>5</th>\n",
              "      <td>40</td>\n",
              "      <td>Highly_Fatal_And_Damaging</td>\n",
              "    </tr>\n",
              "    <tr>\n",
              "      <th>6</th>\n",
              "      <td>45</td>\n",
              "      <td>Highly_Fatal_And_Damaging</td>\n",
              "    </tr>\n",
              "    <tr>\n",
              "      <th>7</th>\n",
              "      <td>50</td>\n",
              "      <td>Significant_Damage_And_Fatalities</td>\n",
              "    </tr>\n",
              "    <tr>\n",
              "      <th>8</th>\n",
              "      <td>52</td>\n",
              "      <td>Highly_Fatal_And_Damaging</td>\n",
              "    </tr>\n",
              "    <tr>\n",
              "      <th>9</th>\n",
              "      <td>85</td>\n",
              "      <td>Minor_Damage_And_Injuries</td>\n",
              "    </tr>\n",
              "  </tbody>\n",
              "</table>\n",
              "</div>"
            ],
            "text/plain": [
              "   Accident_ID                                 Severity\n",
              "0            1                Minor_Damage_And_Injuries\n",
              "1           10                Highly_Fatal_And_Damaging\n",
              "2           14                Highly_Fatal_And_Damaging\n",
              "3           17  Significant_Damage_And_Serious_Injuries\n",
              "4           21                Minor_Damage_And_Injuries\n",
              "5           40                Highly_Fatal_And_Damaging\n",
              "6           45                Highly_Fatal_And_Damaging\n",
              "7           50        Significant_Damage_And_Fatalities\n",
              "8           52                Highly_Fatal_And_Damaging\n",
              "9           85                Minor_Damage_And_Injuries"
            ]
          },
          "metadata": {
            "tags": []
          },
          "execution_count": 84
        }
      ]
    },
    {
      "cell_type": "code",
      "metadata": {
        "id": "8lgJ1_wuIHZz",
        "colab_type": "code",
        "colab": {}
      },
      "source": [
        "t=test.Accident_ID"
      ],
      "execution_count": 0,
      "outputs": []
    },
    {
      "cell_type": "code",
      "metadata": {
        "id": "vnncB5XDIOf0",
        "colab_type": "code",
        "colab": {}
      },
      "source": [
        "re= pd.DataFrame()"
      ],
      "execution_count": 0,
      "outputs": []
    },
    {
      "cell_type": "code",
      "metadata": {
        "id": "Vhx7EnUhIobE",
        "colab_type": "code",
        "colab": {}
      },
      "source": [
        "re['Accident_ID']  = t"
      ],
      "execution_count": 0,
      "outputs": []
    },
    {
      "cell_type": "code",
      "metadata": {
        "id": "7O5UgKmPI1-h",
        "colab_type": "code",
        "colab": {}
      },
      "source": [
        "re['Severity']  = y_predict1"
      ],
      "execution_count": 0,
      "outputs": []
    },
    {
      "cell_type": "code",
      "metadata": {
        "id": "myBgwqehJH_8",
        "colab_type": "code",
        "colab": {
          "base_uri": "https://localhost:8080/",
          "height": 424
        },
        "outputId": "4891c3d5-c2c7-4bbf-c89a-32afcf09b937"
      },
      "source": [
        "re"
      ],
      "execution_count": 89,
      "outputs": [
        {
          "output_type": "execute_result",
          "data": {
            "text/html": [
              "<div>\n",
              "<style scoped>\n",
              "    .dataframe tbody tr th:only-of-type {\n",
              "        vertical-align: middle;\n",
              "    }\n",
              "\n",
              "    .dataframe tbody tr th {\n",
              "        vertical-align: top;\n",
              "    }\n",
              "\n",
              "    .dataframe thead th {\n",
              "        text-align: right;\n",
              "    }\n",
              "</style>\n",
              "<table border=\"1\" class=\"dataframe\">\n",
              "  <thead>\n",
              "    <tr style=\"text-align: right;\">\n",
              "      <th></th>\n",
              "      <th>Accident_ID</th>\n",
              "      <th>Severity</th>\n",
              "    </tr>\n",
              "  </thead>\n",
              "  <tbody>\n",
              "    <tr>\n",
              "      <th>0</th>\n",
              "      <td>1</td>\n",
              "      <td>0</td>\n",
              "    </tr>\n",
              "    <tr>\n",
              "      <th>1</th>\n",
              "      <td>10</td>\n",
              "      <td>2</td>\n",
              "    </tr>\n",
              "    <tr>\n",
              "      <th>2</th>\n",
              "      <td>14</td>\n",
              "      <td>1</td>\n",
              "    </tr>\n",
              "    <tr>\n",
              "      <th>3</th>\n",
              "      <td>17</td>\n",
              "      <td>0</td>\n",
              "    </tr>\n",
              "    <tr>\n",
              "      <th>4</th>\n",
              "      <td>21</td>\n",
              "      <td>0</td>\n",
              "    </tr>\n",
              "    <tr>\n",
              "      <th>...</th>\n",
              "      <td>...</td>\n",
              "      <td>...</td>\n",
              "    </tr>\n",
              "    <tr>\n",
              "      <th>2495</th>\n",
              "      <td>12484</td>\n",
              "      <td>0</td>\n",
              "    </tr>\n",
              "    <tr>\n",
              "      <th>2496</th>\n",
              "      <td>12487</td>\n",
              "      <td>3</td>\n",
              "    </tr>\n",
              "    <tr>\n",
              "      <th>2497</th>\n",
              "      <td>12488</td>\n",
              "      <td>3</td>\n",
              "    </tr>\n",
              "    <tr>\n",
              "      <th>2498</th>\n",
              "      <td>12491</td>\n",
              "      <td>3</td>\n",
              "    </tr>\n",
              "    <tr>\n",
              "      <th>2499</th>\n",
              "      <td>12493</td>\n",
              "      <td>0</td>\n",
              "    </tr>\n",
              "  </tbody>\n",
              "</table>\n",
              "<p>2500 rows × 2 columns</p>\n",
              "</div>"
            ],
            "text/plain": [
              "      Accident_ID  Severity\n",
              "0               1         0\n",
              "1              10         2\n",
              "2              14         1\n",
              "3              17         0\n",
              "4              21         0\n",
              "...           ...       ...\n",
              "2495        12484         0\n",
              "2496        12487         3\n",
              "2497        12488         3\n",
              "2498        12491         3\n",
              "2499        12493         0\n",
              "\n",
              "[2500 rows x 2 columns]"
            ]
          },
          "metadata": {
            "tags": []
          },
          "execution_count": 89
        }
      ]
    },
    {
      "cell_type": "code",
      "metadata": {
        "id": "go-9fS22JL9E",
        "colab_type": "code",
        "colab": {}
      },
      "source": [
        "def score_to_numeric(x):\n",
        "  if x==0:\n",
        "    return \"Highly_Fatal_And_Damaging\"\n",
        "  if x==1:\n",
        "    return  'Minor_Damage_And_Injuries'\n",
        "  if x==2:\n",
        "    return  'Significant_Damage_And_Fatalities'\n",
        "  if x==3:\n",
        "    return  'Significant_Damage_And_Serious_Injuries'\n",
        "\n"
      ],
      "execution_count": 0,
      "outputs": []
    },
    {
      "cell_type": "code",
      "metadata": {
        "id": "tOgzzHRnM7qt",
        "colab_type": "code",
        "colab": {
          "base_uri": "https://localhost:8080/",
          "height": 424
        },
        "outputId": "efa000f1-6c18-4745-cd22-8805c6d664dd"
      },
      "source": [
        "re['Severity'] = re['Severity'].apply(score_to_numeric)\n",
        "re"
      ],
      "execution_count": 91,
      "outputs": [
        {
          "output_type": "execute_result",
          "data": {
            "text/html": [
              "<div>\n",
              "<style scoped>\n",
              "    .dataframe tbody tr th:only-of-type {\n",
              "        vertical-align: middle;\n",
              "    }\n",
              "\n",
              "    .dataframe tbody tr th {\n",
              "        vertical-align: top;\n",
              "    }\n",
              "\n",
              "    .dataframe thead th {\n",
              "        text-align: right;\n",
              "    }\n",
              "</style>\n",
              "<table border=\"1\" class=\"dataframe\">\n",
              "  <thead>\n",
              "    <tr style=\"text-align: right;\">\n",
              "      <th></th>\n",
              "      <th>Accident_ID</th>\n",
              "      <th>Severity</th>\n",
              "    </tr>\n",
              "  </thead>\n",
              "  <tbody>\n",
              "    <tr>\n",
              "      <th>0</th>\n",
              "      <td>1</td>\n",
              "      <td>Highly_Fatal_And_Damaging</td>\n",
              "    </tr>\n",
              "    <tr>\n",
              "      <th>1</th>\n",
              "      <td>10</td>\n",
              "      <td>Significant_Damage_And_Fatalities</td>\n",
              "    </tr>\n",
              "    <tr>\n",
              "      <th>2</th>\n",
              "      <td>14</td>\n",
              "      <td>Minor_Damage_And_Injuries</td>\n",
              "    </tr>\n",
              "    <tr>\n",
              "      <th>3</th>\n",
              "      <td>17</td>\n",
              "      <td>Highly_Fatal_And_Damaging</td>\n",
              "    </tr>\n",
              "    <tr>\n",
              "      <th>4</th>\n",
              "      <td>21</td>\n",
              "      <td>Highly_Fatal_And_Damaging</td>\n",
              "    </tr>\n",
              "    <tr>\n",
              "      <th>...</th>\n",
              "      <td>...</td>\n",
              "      <td>...</td>\n",
              "    </tr>\n",
              "    <tr>\n",
              "      <th>2495</th>\n",
              "      <td>12484</td>\n",
              "      <td>Highly_Fatal_And_Damaging</td>\n",
              "    </tr>\n",
              "    <tr>\n",
              "      <th>2496</th>\n",
              "      <td>12487</td>\n",
              "      <td>Significant_Damage_And_Serious_Injuries</td>\n",
              "    </tr>\n",
              "    <tr>\n",
              "      <th>2497</th>\n",
              "      <td>12488</td>\n",
              "      <td>Significant_Damage_And_Serious_Injuries</td>\n",
              "    </tr>\n",
              "    <tr>\n",
              "      <th>2498</th>\n",
              "      <td>12491</td>\n",
              "      <td>Significant_Damage_And_Serious_Injuries</td>\n",
              "    </tr>\n",
              "    <tr>\n",
              "      <th>2499</th>\n",
              "      <td>12493</td>\n",
              "      <td>Highly_Fatal_And_Damaging</td>\n",
              "    </tr>\n",
              "  </tbody>\n",
              "</table>\n",
              "<p>2500 rows × 2 columns</p>\n",
              "</div>"
            ],
            "text/plain": [
              "      Accident_ID                                 Severity\n",
              "0               1                Highly_Fatal_And_Damaging\n",
              "1              10        Significant_Damage_And_Fatalities\n",
              "2              14                Minor_Damage_And_Injuries\n",
              "3              17                Highly_Fatal_And_Damaging\n",
              "4              21                Highly_Fatal_And_Damaging\n",
              "...           ...                                      ...\n",
              "2495        12484                Highly_Fatal_And_Damaging\n",
              "2496        12487  Significant_Damage_And_Serious_Injuries\n",
              "2497        12488  Significant_Damage_And_Serious_Injuries\n",
              "2498        12491  Significant_Damage_And_Serious_Injuries\n",
              "2499        12493                Highly_Fatal_And_Damaging\n",
              "\n",
              "[2500 rows x 2 columns]"
            ]
          },
          "metadata": {
            "tags": []
          },
          "execution_count": 91
        }
      ]
    },
    {
      "cell_type": "code",
      "metadata": {
        "id": "6Yf_9aUjNVsX",
        "colab_type": "code",
        "colab": {
          "base_uri": "https://localhost:8080/",
          "height": 86
        },
        "outputId": "4d9904d7-1c53-482b-ed8e-eb25fd03622e"
      },
      "source": [
        "set(y_train)"
      ],
      "execution_count": 92,
      "outputs": [
        {
          "output_type": "execute_result",
          "data": {
            "text/plain": [
              "{'Highly_Fatal_And_Damaging',\n",
              " 'Minor_Damage_And_Injuries',\n",
              " 'Significant_Damage_And_Fatalities',\n",
              " 'Significant_Damage_And_Serious_Injuries'}"
            ]
          },
          "metadata": {
            "tags": []
          },
          "execution_count": 92
        }
      ]
    },
    {
      "cell_type": "code",
      "metadata": {
        "id": "Hus7ZvY_NW0S",
        "colab_type": "code",
        "colab": {
          "base_uri": "https://localhost:8080/",
          "height": 34
        },
        "outputId": "f849395c-2be1-4235-f07e-1c96bde6961a"
      },
      "source": [
        "Y_train"
      ],
      "execution_count": 93,
      "outputs": [
        {
          "output_type": "execute_result",
          "data": {
            "text/plain": [
              "array([1, 3, 3, ..., 0, 0, 0])"
            ]
          },
          "metadata": {
            "tags": []
          },
          "execution_count": 93
        }
      ]
    },
    {
      "cell_type": "code",
      "metadata": {
        "id": "5o39q9eFNxZE",
        "colab_type": "code",
        "colab": {
          "base_uri": "https://localhost:8080/",
          "height": 104
        },
        "outputId": "789aff69-a1d0-4ab7-f28b-f5ec56e61f66"
      },
      "source": [
        "y_train"
      ],
      "execution_count": 94,
      "outputs": [
        {
          "output_type": "execute_result",
          "data": {
            "text/plain": [
              "array(['Minor_Damage_And_Injuries',\n",
              "       'Significant_Damage_And_Serious_Injuries',\n",
              "       'Significant_Damage_And_Serious_Injuries', ...,\n",
              "       'Highly_Fatal_And_Damaging', 'Highly_Fatal_And_Damaging',\n",
              "       'Highly_Fatal_And_Damaging'], dtype=object)"
            ]
          },
          "metadata": {
            "tags": []
          },
          "execution_count": 94
        }
      ]
    },
    {
      "cell_type": "code",
      "metadata": {
        "id": "50ryQ6H4Nzj2",
        "colab_type": "code",
        "colab": {}
      },
      "source": [
        "re.to_csv('file8.csv',index=False) "
      ],
      "execution_count": 0,
      "outputs": []
    },
    {
      "cell_type": "code",
      "metadata": {
        "id": "nIX_loCGOmSF",
        "colab_type": "code",
        "colab": {
          "base_uri": "https://localhost:8080/",
          "height": 363
        },
        "outputId": "d8c309d3-3cd6-42f8-f7f6-03b132103d1d"
      },
      "source": [
        "s"
      ],
      "execution_count": 96,
      "outputs": [
        {
          "output_type": "execute_result",
          "data": {
            "text/html": [
              "<div>\n",
              "<style scoped>\n",
              "    .dataframe tbody tr th:only-of-type {\n",
              "        vertical-align: middle;\n",
              "    }\n",
              "\n",
              "    .dataframe tbody tr th {\n",
              "        vertical-align: top;\n",
              "    }\n",
              "\n",
              "    .dataframe thead th {\n",
              "        text-align: right;\n",
              "    }\n",
              "</style>\n",
              "<table border=\"1\" class=\"dataframe\">\n",
              "  <thead>\n",
              "    <tr style=\"text-align: right;\">\n",
              "      <th></th>\n",
              "      <th>Accident_ID</th>\n",
              "      <th>Severity</th>\n",
              "    </tr>\n",
              "  </thead>\n",
              "  <tbody>\n",
              "    <tr>\n",
              "      <th>0</th>\n",
              "      <td>1</td>\n",
              "      <td>Minor_Damage_And_Injuries</td>\n",
              "    </tr>\n",
              "    <tr>\n",
              "      <th>1</th>\n",
              "      <td>10</td>\n",
              "      <td>Highly_Fatal_And_Damaging</td>\n",
              "    </tr>\n",
              "    <tr>\n",
              "      <th>2</th>\n",
              "      <td>14</td>\n",
              "      <td>Highly_Fatal_And_Damaging</td>\n",
              "    </tr>\n",
              "    <tr>\n",
              "      <th>3</th>\n",
              "      <td>17</td>\n",
              "      <td>Significant_Damage_And_Serious_Injuries</td>\n",
              "    </tr>\n",
              "    <tr>\n",
              "      <th>4</th>\n",
              "      <td>21</td>\n",
              "      <td>Minor_Damage_And_Injuries</td>\n",
              "    </tr>\n",
              "    <tr>\n",
              "      <th>5</th>\n",
              "      <td>40</td>\n",
              "      <td>Highly_Fatal_And_Damaging</td>\n",
              "    </tr>\n",
              "    <tr>\n",
              "      <th>6</th>\n",
              "      <td>45</td>\n",
              "      <td>Highly_Fatal_And_Damaging</td>\n",
              "    </tr>\n",
              "    <tr>\n",
              "      <th>7</th>\n",
              "      <td>50</td>\n",
              "      <td>Significant_Damage_And_Fatalities</td>\n",
              "    </tr>\n",
              "    <tr>\n",
              "      <th>8</th>\n",
              "      <td>52</td>\n",
              "      <td>Highly_Fatal_And_Damaging</td>\n",
              "    </tr>\n",
              "    <tr>\n",
              "      <th>9</th>\n",
              "      <td>85</td>\n",
              "      <td>Minor_Damage_And_Injuries</td>\n",
              "    </tr>\n",
              "  </tbody>\n",
              "</table>\n",
              "</div>"
            ],
            "text/plain": [
              "   Accident_ID                                 Severity\n",
              "0            1                Minor_Damage_And_Injuries\n",
              "1           10                Highly_Fatal_And_Damaging\n",
              "2           14                Highly_Fatal_And_Damaging\n",
              "3           17  Significant_Damage_And_Serious_Injuries\n",
              "4           21                Minor_Damage_And_Injuries\n",
              "5           40                Highly_Fatal_And_Damaging\n",
              "6           45                Highly_Fatal_And_Damaging\n",
              "7           50        Significant_Damage_And_Fatalities\n",
              "8           52                Highly_Fatal_And_Damaging\n",
              "9           85                Minor_Damage_And_Injuries"
            ]
          },
          "metadata": {
            "tags": []
          },
          "execution_count": 96
        }
      ]
    },
    {
      "cell_type": "code",
      "metadata": {
        "id": "MUkiB9X0PEEk",
        "colab_type": "code",
        "colab": {
          "base_uri": "https://localhost:8080/",
          "height": 424
        },
        "outputId": "5fb0c6a5-a268-4add-ba7a-704cd5f5309b"
      },
      "source": [
        "re"
      ],
      "execution_count": 97,
      "outputs": [
        {
          "output_type": "execute_result",
          "data": {
            "text/html": [
              "<div>\n",
              "<style scoped>\n",
              "    .dataframe tbody tr th:only-of-type {\n",
              "        vertical-align: middle;\n",
              "    }\n",
              "\n",
              "    .dataframe tbody tr th {\n",
              "        vertical-align: top;\n",
              "    }\n",
              "\n",
              "    .dataframe thead th {\n",
              "        text-align: right;\n",
              "    }\n",
              "</style>\n",
              "<table border=\"1\" class=\"dataframe\">\n",
              "  <thead>\n",
              "    <tr style=\"text-align: right;\">\n",
              "      <th></th>\n",
              "      <th>Accident_ID</th>\n",
              "      <th>Severity</th>\n",
              "    </tr>\n",
              "  </thead>\n",
              "  <tbody>\n",
              "    <tr>\n",
              "      <th>0</th>\n",
              "      <td>1</td>\n",
              "      <td>Highly_Fatal_And_Damaging</td>\n",
              "    </tr>\n",
              "    <tr>\n",
              "      <th>1</th>\n",
              "      <td>10</td>\n",
              "      <td>Significant_Damage_And_Fatalities</td>\n",
              "    </tr>\n",
              "    <tr>\n",
              "      <th>2</th>\n",
              "      <td>14</td>\n",
              "      <td>Minor_Damage_And_Injuries</td>\n",
              "    </tr>\n",
              "    <tr>\n",
              "      <th>3</th>\n",
              "      <td>17</td>\n",
              "      <td>Highly_Fatal_And_Damaging</td>\n",
              "    </tr>\n",
              "    <tr>\n",
              "      <th>4</th>\n",
              "      <td>21</td>\n",
              "      <td>Highly_Fatal_And_Damaging</td>\n",
              "    </tr>\n",
              "    <tr>\n",
              "      <th>...</th>\n",
              "      <td>...</td>\n",
              "      <td>...</td>\n",
              "    </tr>\n",
              "    <tr>\n",
              "      <th>2495</th>\n",
              "      <td>12484</td>\n",
              "      <td>Highly_Fatal_And_Damaging</td>\n",
              "    </tr>\n",
              "    <tr>\n",
              "      <th>2496</th>\n",
              "      <td>12487</td>\n",
              "      <td>Significant_Damage_And_Serious_Injuries</td>\n",
              "    </tr>\n",
              "    <tr>\n",
              "      <th>2497</th>\n",
              "      <td>12488</td>\n",
              "      <td>Significant_Damage_And_Serious_Injuries</td>\n",
              "    </tr>\n",
              "    <tr>\n",
              "      <th>2498</th>\n",
              "      <td>12491</td>\n",
              "      <td>Significant_Damage_And_Serious_Injuries</td>\n",
              "    </tr>\n",
              "    <tr>\n",
              "      <th>2499</th>\n",
              "      <td>12493</td>\n",
              "      <td>Highly_Fatal_And_Damaging</td>\n",
              "    </tr>\n",
              "  </tbody>\n",
              "</table>\n",
              "<p>2500 rows × 2 columns</p>\n",
              "</div>"
            ],
            "text/plain": [
              "      Accident_ID                                 Severity\n",
              "0               1                Highly_Fatal_And_Damaging\n",
              "1              10        Significant_Damage_And_Fatalities\n",
              "2              14                Minor_Damage_And_Injuries\n",
              "3              17                Highly_Fatal_And_Damaging\n",
              "4              21                Highly_Fatal_And_Damaging\n",
              "...           ...                                      ...\n",
              "2495        12484                Highly_Fatal_And_Damaging\n",
              "2496        12487  Significant_Damage_And_Serious_Injuries\n",
              "2497        12488  Significant_Damage_And_Serious_Injuries\n",
              "2498        12491  Significant_Damage_And_Serious_Injuries\n",
              "2499        12493                Highly_Fatal_And_Damaging\n",
              "\n",
              "[2500 rows x 2 columns]"
            ]
          },
          "metadata": {
            "tags": []
          },
          "execution_count": 97
        }
      ]
    },
    {
      "cell_type": "code",
      "metadata": {
        "id": "KQ3AtOHewlQz",
        "colab_type": "code",
        "colab": {}
      },
      "source": [
        ""
      ],
      "execution_count": 0,
      "outputs": []
    }
  ]
}